{
 "cells": [
  {
   "cell_type": "code",
   "execution_count": 1,
   "metadata": {},
   "outputs": [],
   "source": [
    "import numpy as np"
   ]
  },
  {
   "cell_type": "code",
   "execution_count": 4,
   "metadata": {},
   "outputs": [],
   "source": [
    "away = \"Away\"\n",
    "home = \"Home\""
   ]
  },
  {
   "cell_type": "code",
   "execution_count": 40,
   "metadata": {},
   "outputs": [],
   "source": [
    "game = 1\n",
    "def file(game,team): \n",
    "    f = f\"data/Sample_Game_{game}/Sample_Game_{game}_RawTrackingData_{team}_Team.csv\"\n",
    "    return f \n",
    "\n",
    "def readData(game,team):\n",
    "    filename = f\"../{file(game,team)}\"\n",
    "    raw = np.loadtxt(filename,skiprows=3, delimiter=',',unpack=True)#open(filename,'r').readlines()\n",
    "    return raw\n",
    "\n",
    "def readHeaders(game,team):\n",
    "    filename = f\"../{file(game,team)}\"\n",
    "    raw = open(filename,'r').readlines()\n",
    "    return raw[2]\n",
    "\n",
    "\n"
   ]
  },
  {
   "cell_type": "code",
   "execution_count": 41,
   "metadata": {},
   "outputs": [],
   "source": [
    "# raw = readData(1,away)\n",
    "headers = readHeaders(1,away)\n"
   ]
  },
  {
   "cell_type": "code",
   "execution_count": 51,
   "metadata": {},
   "outputs": [
    {
     "data": {
      "text/plain": [
       "['Period',\n",
       " 'Frame',\n",
       " 'Time [s]',\n",
       " 'Player25',\n",
       " '',\n",
       " 'Player15',\n",
       " '',\n",
       " 'Player16',\n",
       " '',\n",
       " 'Player17',\n",
       " '',\n",
       " 'Player18',\n",
       " '',\n",
       " 'Player19',\n",
       " '',\n",
       " 'Player20',\n",
       " '',\n",
       " 'Player21',\n",
       " '',\n",
       " 'Player22',\n",
       " '',\n",
       " 'Player23',\n",
       " '',\n",
       " 'Player24',\n",
       " '',\n",
       " 'Player26',\n",
       " '',\n",
       " 'Player27',\n",
       " '',\n",
       " 'Player28',\n",
       " '',\n",
       " 'Ball',\n",
       " '\\n']"
      ]
     },
     "execution_count": 51,
     "metadata": {},
     "output_type": "execute_result"
    }
   ],
   "source": [
    "headers.split(\",\")"
   ]
  },
  {
   "cell_type": "code",
   "execution_count": 62,
   "metadata": {},
   "outputs": [
    {
     "name": "stdout",
     "output_type": "stream",
     "text": [
      "End\n"
     ]
    }
   ],
   "source": [
    "labelprev = \"prev\"\n",
    "track = {}\n",
    "for label,data in zip(headers.split(\",\"),raw):\n",
    "    if (label==\"\"):\n",
    "        # print(f\"{labelprev}_y\")\n",
    "        track[f\"{labelprev}_y\"] = data\n",
    "    else:\n",
    "        if(\"Player\" in label or \"Ball\" in label):\n",
    "            # print(f\"{label}_x\")\n",
    "            track[f\"{label}_x\"] = data\n",
    "        else:\n",
    "            if (label=='\\n'):\n",
    "                # print(\"Ball_y\") \n",
    "                track[\"Ball_y\"] = data   \n",
    "            else:\n",
    "                # print(f\"{label}\")\n",
    "                track[label] = data \n",
    "        \n",
    "    labelprev = label\n",
    "print(\"End\")    \n"
   ]
  },
  {
   "cell_type": "code",
   "execution_count": 76,
   "metadata": {},
   "outputs": [],
   "source": [
    "goals, = np.where(track[\"Ball_x\"]>1.0)"
   ]
  },
  {
   "cell_type": "code",
   "execution_count": 79,
   "metadata": {},
   "outputs": [
    {
     "data": {
      "text/plain": [
       "array([  1410,   1411,   1412, ..., 142229, 142230, 142231])"
      ]
     },
     "execution_count": 79,
     "metadata": {},
     "output_type": "execute_result"
    }
   ],
   "source": [
    "goals"
   ]
  }
 ],
 "metadata": {
  "kernelspec": {
   "display_name": "base",
   "language": "python",
   "name": "python3"
  },
  "language_info": {
   "codemirror_mode": {
    "name": "ipython",
    "version": 3
   },
   "file_extension": ".py",
   "mimetype": "text/x-python",
   "name": "python",
   "nbconvert_exporter": "python",
   "pygments_lexer": "ipython3",
   "version": "3.9.5"
  },
  "orig_nbformat": 4
 },
 "nbformat": 4,
 "nbformat_minor": 2
}
