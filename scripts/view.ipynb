{
 "cells": [
  {
   "cell_type": "code",
   "execution_count": 1,
   "metadata": {},
   "outputs": [],
   "source": [
    "import matplotlib.pyplot as plt\n",
    "import numpy as np\n",
    "import matplotlib.animation as animation"
   ]
  },
  {
   "cell_type": "code",
   "execution_count": 2,
   "metadata": {},
   "outputs": [],
   "source": [
    "def plot_pitch( field_dimen = (106.0,68.0), field_color ='green', linewidth=2, markersize=20):\n",
    "    \"\"\" plot_pitch\n",
    "    \n",
    "    Plots a soccer pitch. All distance units converted to meters.\n",
    "    \n",
    "    Parameters\n",
    "    -----------\n",
    "        field_dimen: (length, width) of field in meters. Default is (106,68)\n",
    "        field_color: color of field. options are {'green','white'}\n",
    "        linewidth  : width of lines. default = 2\n",
    "        markersize : size of markers (e.g. penalty spot, centre spot, posts). default = 20\n",
    "        \n",
    "    Returrns\n",
    "    -----------\n",
    "       fig,ax : figure and aixs objects (so that other data can be plotted onto the pitch)\n",
    "    \"\"\"\n",
    "    fig,ax = plt.subplots(figsize=(12,8)) # create a figure \n",
    "    # decide what color we want the field to be. Default is green, but can also choose white\n",
    "    if field_color=='green':\n",
    "        ax.set_facecolor('mediumseagreen')\n",
    "        lc = 'whitesmoke' # line color\n",
    "        pc = 'w' # 'spot' colors\n",
    "    elif field_color=='white':\n",
    "        lc = 'k'\n",
    "        pc = 'k'\n",
    "    # ALL DIMENSIONS IN m\n",
    "    border_dimen = (3,3) # include a border arround of the field of width 3m\n",
    "    meters_per_yard = 0.9144 # unit conversion from yards to meters\n",
    "    half_pitch_length = field_dimen[0]/2. # length of half pitch\n",
    "    half_pitch_width = field_dimen[1]/2. # width of half pitch\n",
    "    signs = [-1,1] \n",
    "    # Soccer field dimensions typically defined in yards, so we need to convert to meters\n",
    "    goal_line_width = 8*meters_per_yard\n",
    "    box_width = 20*meters_per_yard\n",
    "    box_length = 6*meters_per_yard\n",
    "    area_width = 44*meters_per_yard\n",
    "    area_length = 18*meters_per_yard\n",
    "    penalty_spot = 12*meters_per_yard\n",
    "    corner_radius = 1*meters_per_yard\n",
    "    D_length = 8*meters_per_yard\n",
    "    D_radius = 10*meters_per_yard\n",
    "    D_pos = 12*meters_per_yard\n",
    "    centre_circle_radius = 10*meters_per_yard\n",
    "    # plot half way line # center circle\n",
    "    ax.plot([0,0],[-half_pitch_width,half_pitch_width],lc,linewidth=linewidth)\n",
    "    ax.scatter(0.0,0.0,marker='o',facecolor=lc,linewidth=0,s=markersize)\n",
    "    y = np.linspace(-1,1,50)*centre_circle_radius\n",
    "    x = np.sqrt(centre_circle_radius**2-y**2)\n",
    "    ax.plot(x,y,lc,linewidth=linewidth)\n",
    "    ax.plot(-x,y,lc,linewidth=linewidth)\n",
    "    for s in signs: # plots each line seperately\n",
    "        # plot pitch boundary\n",
    "        ax.plot([-half_pitch_length,half_pitch_length],[s*half_pitch_width,s*half_pitch_width],lc,linewidth=linewidth)\n",
    "        ax.plot([s*half_pitch_length,s*half_pitch_length],[-half_pitch_width,half_pitch_width],lc,linewidth=linewidth)\n",
    "        # goal posts & line\n",
    "        ax.plot( [s*half_pitch_length,s*half_pitch_length],[-goal_line_width/2.,goal_line_width/2.],pc+'s',markersize=6*markersize/20.,linewidth=linewidth)\n",
    "        # 6 yard box\n",
    "        ax.plot([s*half_pitch_length,s*half_pitch_length-s*box_length],[box_width/2.,box_width/2.],lc,linewidth=linewidth)\n",
    "        ax.plot([s*half_pitch_length,s*half_pitch_length-s*box_length],[-box_width/2.,-box_width/2.],lc,linewidth=linewidth)\n",
    "        ax.plot([s*half_pitch_length-s*box_length,s*half_pitch_length-s*box_length],[-box_width/2.,box_width/2.],lc,linewidth=linewidth)\n",
    "        # penalty area\n",
    "        ax.plot([s*half_pitch_length,s*half_pitch_length-s*area_length],[area_width/2.,area_width/2.],lc,linewidth=linewidth)\n",
    "        ax.plot([s*half_pitch_length,s*half_pitch_length-s*area_length],[-area_width/2.,-area_width/2.],lc,linewidth=linewidth)\n",
    "        ax.plot([s*half_pitch_length-s*area_length,s*half_pitch_length-s*area_length],[-area_width/2.,area_width/2.],lc,linewidth=linewidth)\n",
    "        # penalty spot\n",
    "        ax.scatter(s*half_pitch_length-s*penalty_spot,0.0,marker='o',facecolor=lc,linewidth=0,s=markersize)\n",
    "        # corner flags\n",
    "        y = np.linspace(0,1,50)*corner_radius\n",
    "        x = np.sqrt(corner_radius**2-y**2)\n",
    "        ax.plot(s*half_pitch_length-s*x,-half_pitch_width+y,lc,linewidth=linewidth)\n",
    "        ax.plot(s*half_pitch_length-s*x,half_pitch_width-y,lc,linewidth=linewidth)\n",
    "        # draw the D\n",
    "        y = np.linspace(-1,1,50)*D_length # D_length is the chord of the circle that defines the D\n",
    "        x = np.sqrt(D_radius**2-y**2)+D_pos\n",
    "        ax.plot(s*half_pitch_length-s*x,y,lc,linewidth=linewidth)\n",
    "        \n",
    "    # remove axis labels and ticks\n",
    "    ax.set_xticklabels([])\n",
    "    ax.set_yticklabels([])\n",
    "    ax.set_xticks([])\n",
    "    ax.set_yticks([])\n",
    "    # set axis limits\n",
    "    xmax = field_dimen[0]/2. + border_dimen[0]\n",
    "    ymax = field_dimen[1]/2. + border_dimen[1]\n",
    "    ax.set_xlim([-xmax,xmax])\n",
    "    ax.set_ylim([-ymax,ymax])\n",
    "    ax.set_axisbelow(True)\n",
    "    return fig,ax"
   ]
  },
  {
   "cell_type": "code",
   "execution_count": 3,
   "metadata": {},
   "outputs": [],
   "source": [
    "%matplotlib inline"
   ]
  },
  {
   "cell_type": "code",
   "execution_count": 4,
   "metadata": {},
   "outputs": [
    {
     "name": "stderr",
     "output_type": "stream",
     "text": [
      "/var/folders/b8/sx4v8rw56mv_mzsdqmfxz7z00000gn/T/ipykernel_9946/657336734.py:4: UserWarning: Matplotlib is currently using module://matplotlib_inline.backend_inline, which is a non-GUI backend, so cannot show the figure.\n",
      "  fig.show()\n"
     ]
    },
    {
     "data": {
      "image/png": "[encoded data removed]",
      "text/plain": [
       "<Figure size 864x576 with 1 Axes>"
      ]
     },
     "metadata": {},
     "output_type": "display_data"
    }
   ],
   "source": [
    "field_dimen = (106.0,68)\n",
    "fig,ax = plot_pitch(field_color='green', field_dimen = field_dimen)\n",
    "\n",
    "fig.show()"
   ]
  }
 ],
 "metadata": {
  "kernelspec": {
   "display_name": "base",
   "language": "python",
   "name": "python3"
  },
  "language_info": {
   "codemirror_mode": {
    "name": "ipython",
    "version": 3
   },
   "file_extension": ".py",
   "mimetype": "text/x-python",
   "name": "python",
   "nbconvert_exporter": "python",
   "pygments_lexer": "ipython3",
   "version": "3.9.5"
  },
  "orig_nbformat": 4
 },
 "nbformat": 4,
 "nbformat_minor": 2
}
